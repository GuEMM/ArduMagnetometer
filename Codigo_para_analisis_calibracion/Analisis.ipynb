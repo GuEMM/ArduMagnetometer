{
 "cells": [
  {
   "cell_type": "code",
   "execution_count": 18,
   "metadata": {},
   "outputs": [],
   "source": [
    "import numpy as np\n",
    "import matplotlib.pyplot as plt\n",
    "import pandas as pd"
   ]
  },
  {
   "cell_type": "code",
   "execution_count": null,
   "metadata": {},
   "outputs": [],
   "source": []
  },
  {
   "cell_type": "code",
   "execution_count": 19,
   "metadata": {},
   "outputs": [],
   "source": [
    "S1 = pd.read_csv(\"Datos_corriente_FG3_s2_Curva1.csv\", names=['value1','value2','value3','value4','value5'], header=0, delimiter=',')\n",
    "S2 = pd.read_csv(\"Datos_corriente_FG3_s2_Curva2.csv\", names=['value1','value2','value3','value4','value5'], header=0, delimiter=',')\n",
    "S3 = pd.read_csv(\"Datos_corriente_FG3_s2_Curva3.csv\", names=['value1','value2','value3','value4','value5'], header=0, delimiter=',')\n",
    "S4 = pd.read_csv(\"Datos_corriente_FG3_s4_Curva1.csv\", names=['value1','value2','value3','value4','value5'], header=0, delimiter=',')\n",
    "S5 = pd.read_csv(\"Datos_corriente_FG3_s1_Curva1.csv\", names=['value1','value2','value3','value4','value5'], header=0, delimiter=',')\n",
    "\n",
    "#Sens = pd.concat([S1, S2, S3, S4, S5]).sort_index()\n",
    "\n",
    "Sens = pd.concat([S1, S2, S3]).sort_index()"
   ]
  },
  {
   "cell_type": "code",
   "execution_count": 20,
   "metadata": {},
   "outputs": [],
   "source": [
    "N=np.size(Sens.value2)\n",
    "Ni=0\n",
    "Nf=N\n",
    "\n",
    "Sens= Sens.iloc[Ni:Nf]\n"
   ]
  },
  {
   "cell_type": "code",
   "execution_count": null,
   "metadata": {},
   "outputs": [],
   "source": []
  },
  {
   "cell_type": "code",
   "execution_count": 21,
   "metadata": {},
   "outputs": [],
   "source": [
    "Inten = Sens.value3.drop_duplicates()\n",
    "Y=Inten.iloc[0]\n"
   ]
  },
  {
   "cell_type": "code",
   "execution_count": 22,
   "metadata": {},
   "outputs": [
    {
     "name": "stdout",
     "output_type": "stream",
     "text": [
      "0.0257\n"
     ]
    }
   ],
   "source": [
    "from sympy import *\n",
    "\n",
    "init_printing(pretty_print=true)\n",
    "\n",
    "from sympy.vector import CoordSys3D\n",
    "N = CoordSys3D('N')\n",
    "\n",
    "import scipy.integrate as integ\n",
    "import mpmath as mp\n",
    "\n",
    "import numpy as np\n",
    "\n",
    "#CALCULO DE CAMPO MAGNETICO GENERADO POR UNA HELICE, PRESENTACION DEL MODELO \n",
    "#Radio helice\n",
    "R= var('R')\n",
    "\n",
    "#Espaciamiento\n",
    "a= var('a')\n",
    "\n",
    "#Variables\n",
    "phi = Symbol('phi') #Unico parametro de la curva\n",
    "\n",
    "#Curva parametrizada,  helice\n",
    "c = R*cos(phi)*N.i+R*sin(phi)*N.j+(a/(2*pi))*phi*N.k\n",
    "\n",
    "#vector tangente diferencial\n",
    "l= c.diff(phi)\n",
    "\n",
    "#Posicion de medicion\n",
    "x=var('x');y=var('y');z=var('z');\n",
    "r= x*N.i+y*N.j+z*N.k\n",
    "\n",
    "#Corriente\n",
    "I = var('I')\n",
    "\n",
    "#Permeabilidad del vacio\n",
    "mu = var('\\mu_{0}')\n",
    "\n",
    "#Diferencia entre posicion de medicion y posicion fuente\n",
    "eta = r - c\n",
    "\n",
    "#CON VARIABLES DEFINIDAS PARA RESOLVER EL MODELO\n",
    "#R= 0.045 #m\n",
    "#Diametro Interno\n",
    "D=0.0433\n",
    "R1=D/2\n",
    "\n",
    "#Diametro externo\n",
    "D2=0.0595\n",
    "R2=D2/2\n",
    "\n",
    "R=(R1+R2)/2\n",
    "print(R)\n",
    "#Espaciamiento\n",
    "a = 0.002 #m\n",
    "\n",
    "#Curva parametrizada,  helice\n",
    "c = R*cos(phi)*N.i+R*sin(phi)*N.j+(a/(2*pi))*phi*N.k\n",
    "\n",
    "#vector tangente diferencial\n",
    "l= c.diff(phi)\n",
    "\n",
    "#COrriente\n",
    "#I = 500*10**(-6) #Ampere\n",
    "\n",
    "#Permeabilidad del vacio\n",
    "mu = 4*pi*10**(-7)\n",
    "\n",
    "#Medicion\n",
    "r= x*N.i+y*N.j+z*N.k\n",
    "\n",
    "#Diferencia entre posicion de medicion y posicion fuente\n",
    "eta = r - c"
   ]
  },
  {
   "cell_type": "code",
   "execution_count": 23,
   "metadata": {},
   "outputs": [],
   "source": [
    "#FUNCION PARA CALCULAR EL CAMPO CREADO POR EL HELICOIDE EN PUNTOS X,Y,Z\n",
    "\n",
    "def CampoB(x,y,z):\n",
    "                #PUNTO de Medicion\n",
    "        r= x*N.i+y*N.j+z*N.k\n",
    "        \n",
    "        #Diferencia entre posicion de medicion y posicion fuente\n",
    "        eta = r - c\n",
    "        \n",
    "        INT=((l.cross(eta))/((sqrt(eta.dot(eta)))**3))\n",
    "        \n",
    "        INTx= INT.dot(N.i)\n",
    "        INTy= INT.dot(N.j)\n",
    "        INTz= INT.dot(N.k)\n",
    "        \n",
    "        intX= lambdify (phi, INTx, 'mpmath')\n",
    "        intY= lambdify (phi, INTy, 'mpmath')\n",
    "        intZ= lambdify (phi, INTz, 'mpmath')\n",
    "\n",
    "        Ix=sympify(mp.quad(intX,[-200*mp.pi,200*mp.pi]))\n",
    "        Iy=sympify(mp.quad(intY,[-200*mp.pi,200*mp.pi]))\n",
    "        Iz=sympify(mp.quad(intZ,[-200*mp.pi,200*mp.pi]))\n",
    "        \n",
    "        #Permeabilidad del vacio\n",
    "        mu = 4*pi*10**(-7)\n",
    "\n",
    "        K=(mu*I)/(4*pi).evalf()\n",
    "\n",
    "        Bx=K*Ix.evalf()\n",
    "        Bxer=K*Ix\n",
    "        \n",
    "        By=K*Iy.evalf()\n",
    "        Byer=K*Iy\n",
    "\n",
    "        Bz=K*Iz.evalf()\n",
    "        #Bzer=K*Iz\n",
    "        #B=Bx*N.i+By*N.j+Bz*N.k\n",
    "        B=[Bx.evalf(),By.evalf(),Bz.evalf()]\n",
    "        return B\n",
    "    \n",
    "def intX(phi,x,y,z):\n",
    "     return (-0.0005*(y - 0.045*sin(phi))/pi + 0.045*(-0.0005*phi/pi + z)*cos(phi))/((x - 0.045*cos(phi))**2 + (y - 0.045*sin(phi))**2 + (-0.0005*phi/pi + z)**2)**(3/2)\n",
    "    \n",
    "def intY(phi,x,y,z):\n",
    "     return (0.0005*(x - 0.045*cos(phi))/pi + 0.045*(-0.0005*phi/pi + z)*sin(phi))/((x - 0.045*cos(phi))**2 + (y - 0.045*sin(phi))**2 + (-0.0005*phi/pi + z)**2)**(3/2)\n",
    "    \n",
    "def intZ(phi,x,y,z):\n",
    "     return (-0.045*(x - 0.045*cos(phi))*cos(phi) - 0.045*(y - 0.045*sin(phi))*sin(phi))/((x - 0.045*cos(phi))**2 + (y - 0.045*sin(phi))**2 + (-0.0005*phi/pi + z)**2)**(3/2)\n",
    "\n",
    "def Berr(x,y,z):\n",
    "    K=(mu*I)/(4*pi).evalf()\n",
    "    Ix=integ.quad(intX,-50*pi,50*pi,args=(x,y,z))\n",
    "\n",
    "    Iy=integ.quad(intY,-50*pi,50*pi,args=(x,y,z))\n",
    "\n",
    "    Iz=integ.quad(intZ,-50*pi,50*pi,args=(x,y,z))\n",
    "\n",
    "    Bx=K*Ix[0]\n",
    "    Bxer=K*Ix[1]\n",
    "\n",
    "    By=K*Iy[0]\n",
    "    Byer=K*Iy[1]\n",
    "\n",
    "    Bz=K*Iz[0]\n",
    "    Bzer=K*Iz[1]\n",
    "    \n",
    "    B=Bx*N.i+By*N.j+Bz*N.k\n",
    "    \n",
    "    Ber=Bxer*N.i+Byer*N.j+Bzer*N.k\n",
    "    return B,Ber\n"
   ]
  },
  {
   "cell_type": "code",
   "execution_count": 24,
   "metadata": {},
   "outputs": [],
   "source": [
    "Datos = pd.DataFrame(columns=['MediaINT','DVINT','CoefVInt','MediaEXT', 'DVEXT','CoefVExt', 'Corriente','Campo_z','Campo_y'])\n",
    "\n",
    "\n",
    "for i in range(0,np.size(Inten)):\n",
    "    I=float(Inten.iloc[i])\n",
    "    #print(I)\n",
    "    B=CampoB(0,0,0)\n",
    "    X=Sens.loc[Sens['value3'] == Inten.iloc[i]]\n",
    "    MeanINT= np.mean(X.value2/1e6)\n",
    "    DVINT=np.std(X.value2/1e6)\n",
    "    MeanEXT= np.mean(X.value1/1e6)\n",
    "    DVEXT=np.std(X.value1/1e6)\n",
    "    CoefVInt = DVINT/MeanINT\n",
    "    CoefVExt = DVEXT/MeanEXT\n",
    "    Datos.loc[i] = [MeanINT] + [DVINT] + [CoefVInt] + [MeanEXT] + [DVEXT] + [CoefVExt] + [I] + [B[2]*1e9] + [B[1]*1e9]\n"
   ]
  },
  {
   "cell_type": "code",
   "execution_count": 25,
   "metadata": {},
   "outputs": [
    {
     "name": "stdout",
     "output_type": "stream",
     "text": [
      "     MediaINT     DVINT  CoefVInt   MediaEXT     DVEXT  CoefVExt  Corriente  \\\n",
      "39   8.226792  0.003091  0.000376  18.828600  0.001152  0.000061   -0.08090   \n",
      "54   8.276976  0.000484  0.000058  18.662510  0.001806  0.000097   -0.08050   \n",
      "40   8.252537  0.001333  0.000162  18.985599  0.002836  0.000149   -0.07960   \n",
      "33   8.582459  0.002565  0.000299  18.748599  0.026584  0.001418   -0.07010   \n",
      "53   8.905339  0.106844  0.011998  18.620668  0.015003  0.000806   -0.06240   \n",
      "34   8.921034  0.011114  0.001246  18.768938  0.009985  0.000532   -0.06130   \n",
      "28   8.847575  0.002396  0.000271  18.433589  0.006189  0.000336   -0.06080   \n",
      "52   9.481376  0.002849  0.000301  18.541109  0.003103  0.000167   -0.05220   \n",
      "29   9.288007  0.002696  0.000290  18.333061  0.005457  0.000298   -0.05020   \n",
      "51  10.491749  0.247376  0.023578  18.394630  0.055814  0.003034   -0.04110   \n",
      "4    9.949984  0.049531  0.004978  18.467139  0.229474  0.012426   -0.04060   \n",
      "18  11.048904  0.004864  0.000440  18.618277  0.005455  0.000293   -0.03210   \n",
      "32  10.964137  0.004597  0.000419  18.130395  0.005388  0.000297   -0.03085   \n",
      "50  11.836463  0.207626  0.017541  18.090186  0.021120  0.001167   -0.03044   \n",
      "31  12.864112  0.007151  0.000556  18.291635  0.005317  0.000291   -0.02052   \n",
      "20  13.489944  0.016420  0.001217  18.752537  0.010763  0.000574   -0.02048   \n",
      "48  12.916511  0.023734  0.001837  17.977806  0.001609  0.000090   -0.02023   \n",
      "35  13.668137  0.004146  0.000303  18.168055  0.004114  0.000226   -0.01531   \n",
      "36  14.581951  0.002902  0.000199  18.172589  0.004378  0.000241   -0.01060   \n",
      "15  14.815166  0.020802  0.001404  18.532720  0.017507  0.000945   -0.01032   \n",
      "45  14.585835  0.250977  0.017207  17.925537  0.048457  0.002703   -0.01022   \n",
      "38  14.476545  0.005479  0.000378  18.197744  0.003989  0.000219   -0.01005   \n",
      "42  15.923062  0.006060  0.000381  18.187594  0.000723  0.000040   -0.00580   \n",
      "10  15.720176  0.007749  0.000493  18.141424  0.004176  0.000230   -0.00516   \n",
      "14  16.053598  0.127780  0.007960  18.716003  0.406490  0.021719   -0.00510   \n",
      "13  15.334758  0.170928  0.011146  18.044998  0.043075  0.002387   -0.00506   \n",
      "27  15.247219  0.003528  0.000231  18.157367  0.004568  0.000252   -0.00504   \n",
      "7   15.260839  0.003338  0.000219  18.068745  0.009397  0.000520   -0.00503   \n",
      "30  15.242339  0.004811  0.000316  18.298452  0.014802  0.000809   -0.00498   \n",
      "0   16.020406  0.296314  0.018496  18.234254  0.131537  0.007214   -0.00045   \n",
      "..        ...       ...       ...        ...       ...       ...        ...   \n",
      "22  16.399143  0.004282  0.000261  18.207133  0.005651  0.000310    0.00046   \n",
      "23  16.367364  0.005477  0.000335  17.846265  0.003948  0.000221    0.00100   \n",
      "49  17.036769  0.037867  0.002223  18.470962  0.109673  0.005938    0.00101   \n",
      "25  17.052916  0.003512  0.000206  17.892374  0.003783  0.000211    0.00503   \n",
      "47  16.851687  0.002728  0.000162  17.880860  0.000496  0.000028    0.00509   \n",
      "55  17.516943  0.001724  0.000098  18.927725  0.001618  0.000085    0.00516   \n",
      "1   16.779774  0.013873  0.000827  17.930466  0.003998  0.000223    0.00520   \n",
      "17  17.852106  0.003945  0.000221  17.973242  0.004366  0.000243    0.01014   \n",
      "56  18.413272  0.022622  0.001229  18.708407  0.049174  0.002628    0.01015   \n",
      "41  17.520664  0.130664  0.007458  17.897966  0.005574  0.000311    0.01030   \n",
      "44  17.702190  0.009202  0.000520  17.890667  0.000805  0.000045    0.01031   \n",
      "3   19.339119  0.004079  0.000211  18.153279  0.003865  0.000213    0.02030   \n",
      "8   18.847157  0.003831  0.000203  17.974039  0.004838  0.000269    0.02069   \n",
      "57  19.934451  0.005287  0.000265  18.874336  0.006724  0.000356    0.02097   \n",
      "6   20.106512  0.005284  0.000263  18.025835  0.003654  0.000203    0.03066   \n",
      "5   20.741954  0.004147  0.000200  18.368870  0.003713  0.000202    0.03079   \n",
      "58  20.970244  0.006031  0.000288  18.922192  0.003442  0.000182    0.03090   \n",
      "59  22.142593  0.018980  0.000857  18.982213  0.000747  0.000039    0.04080   \n",
      "9   21.955474  0.008515  0.000388  18.543771  0.004749  0.000256    0.04140   \n",
      "11  21.913041  0.028285  0.001291  18.612073  0.014947  0.000803    0.04190   \n",
      "2   22.376304  0.023365  0.001044  18.162842  0.002794  0.000154    0.05070   \n",
      "12  22.376875  0.010277  0.000459  18.231986  0.007136  0.000391    0.05090   \n",
      "19  23.260755  0.005616  0.000241  18.118940  0.003550  0.000196    0.06000   \n",
      "60  24.437639  0.003572  0.000146  19.123056  0.002479  0.000130    0.06160   \n",
      "46  23.723551  0.029821  0.001257  18.336694  0.001921  0.000105    0.06180   \n",
      "26  24.395403  0.007327  0.000300  18.200217  0.003721  0.000204    0.07000   \n",
      "61  26.264375  0.054665  0.002081  18.707121  0.007123  0.000381    0.08090   \n",
      "24  26.229722  0.006104  0.000233  18.742908  0.005302  0.000283    0.08160   \n",
      "37  25.923489  0.015261  0.000589  18.336863  0.017173  0.000937    0.08230   \n",
      "43  26.225747  0.003191  0.000122  18.744002  0.004530  0.000242    0.08260   \n",
      "\n",
      "              Campo_z            Campo_y  \n",
      "39  -50416.4290359419   528.454126371765  \n",
      "54  -50167.1512656777   525.841250592424  \n",
      "40  -49606.2762825832   519.962280088906  \n",
      "33  -43685.9292388075   457.906480329551  \n",
      "53  -38887.3321612210   407.608621577233  \n",
      "34  -38201.8182929943   400.423213184044  \n",
      "28  -37890.2210801640   397.157118459868  \n",
      "52  -32530.7490194829   340.980289204031  \n",
      "29  -31284.3601681617   327.915910307325  \n",
      "51  -25613.2908946503   268.472986327312  \n",
      "4   -25301.6936818201   265.206891603135  \n",
      "18  -20004.5410637050   209.683281292134  \n",
      "32  -19225.5480316293   201.518044481693  \n",
      "50  -18970.0383171084   198.839846807868  \n",
      "31  -12787.9496145554   134.040527480205  \n",
      "20  -12763.0218375289   133.779239902271  \n",
      "48  -12607.2232311138   132.146192540183  \n",
      "35  -9541.10665686367   100.007820454286  \n",
      "36  -6605.86091200228   69.2412081525427  \n",
      "15  -6431.36647281732   67.4121951070039  \n",
      "45  -6369.04703025126   66.7589761621686  \n",
      "38  -6263.10397788895   65.6485039559485  \n",
      "42  -3614.52766883144   37.8866988004479  \n",
      "10  -3215.68323640866   33.7060975535019  \n",
      "14  -3178.29157086902   33.3141661866008  \n",
      "13  -3153.36379384260   33.0528786086666  \n",
      "27  -3140.89990532939   32.9222348196996  \n",
      "7   -3134.66796107278   32.8569129252160  \n",
      "30  -3103.50823978975   32.5303034527984  \n",
      "0   -280.437491547267   2.93948525175889  \n",
      "..                ...                ...  \n",
      "22   286.669435803872  -3.00480714624242  \n",
      "23   623.194425660593  -6.53218944835309  \n",
      "49   629.426369917198  -6.59751134283662  \n",
      "25   3134.66796107278  -32.8569129252160  \n",
      "47   3172.05962661242  -33.2488442921172  \n",
      "55   3215.68323640866  -33.7060975535019  \n",
      "1    3240.61101343508  -33.9673851314361  \n",
      "17   6319.19147619841  -66.2364010063003  \n",
      "56   6325.42342045501  -66.3017229007838  \n",
      "41   6418.90258430410  -67.2815513180368  \n",
      "44   6425.13452856071  -67.3468732125203  \n",
      "3    12650.8468409100  -132.603445801568  \n",
      "8    12893.8926669177  -135.150999686425  \n",
      "57   13068.3871061026  -136.980012731964  \n",
      "6    19107.1410907538  -200.276928486506  \n",
      "5    19188.1563660896  -201.126113114792  \n",
      "58   19256.7077529123  -201.844653954110  \n",
      "59   25426.3325669522  -266.513329492806  \n",
      "9    25800.2492223485  -270.432643161818  \n",
      "11   26111.8464351788  -273.698737885994  \n",
      "2    31595.9573809920  -331.182005031502  \n",
      "12   31720.5962661242  -332.488442921172  \n",
      "19   37391.6655396355  -391.931366901185  \n",
      "60   38388.7766206925  -402.382870018550  \n",
      "46   38513.4155058246  -403.689307908221  \n",
      "26   43623.6097962415  -457.253261384716  \n",
      "61   50416.4290359419  -528.454126371765  \n",
      "24   50852.6651339043  -533.026658985612  \n",
      "37   51288.9012318668  -537.599191599459  \n",
      "43   51475.8595595649  -539.558848433965  \n",
      "\n",
      "[62 rows x 9 columns]\n"
     ]
    }
   ],
   "source": [
    "Datos=Datos.sort_values(by='Corriente', ascending=True)\n",
    "print(Datos)"
   ]
  },
  {
   "cell_type": "code",
   "execution_count": 26,
   "metadata": {},
   "outputs": [
    {
     "name": "stdout",
     "output_type": "stream",
     "text": [
      "0.0514758595595649\n",
      "-0.0504164290359419\n",
      "0.101892288595507\n"
     ]
    },
    {
     "data": {
      "image/png": "[encoded data removed]",
      "text/plain": [
       "<Figure size 432x288 with 1 Axes>"
      ]
     },
     "metadata": {
      "needs_background": "light"
     },
     "output_type": "display_data"
    }
   ],
   "source": [
    "X_min=np.min(Datos.MediaINT)\n",
    "X_max=np.max(Datos.MediaINT)\n",
    "Y_min=np.min(Datos.Campo_z)\n",
    "Y_max=np.max(Datos.Campo_z)\n",
    "\n",
    "curm= plt.plot(Datos.MediaINT,Datos.Campo_z, 'r-')\n",
    "#cur= plt.plot(X1, Y1, \"-\", c='green', lw=0.4)\n",
    "e=plt.errorbar(Datos.MediaINT, Datos.Campo_z,  xerr=Datos.DVINT, linestyle='none', ecolor='r' ,marker='o', mfc='red', capsize=0.5, lw=0.3)\n",
    "\n",
    "print(Y_max/1e6)\n",
    "print(Y_min/1e6)\n",
    "print((Y_max-Y_min)/1e6)\n",
    "\n",
    "plt.ylabel('Campo (nT)')\n",
    "plt.xlabel(r'Periodo ($\\mu$s)')\n",
    "plt.xlim(X_min,X_max)\n",
    "plt.xticks(np.arange(7, 28, 1)) \n",
    "plt.yticks(np.arange(-55000, 55000, 5000)) \n",
    "#plt.xlim(14,17)\n",
    "#plt.ylim(Y_min,Y_max)\n",
    "plt.title('INTERNO')\n",
    "plt.grid()\n",
    "#plt.show(1)\n",
    "plt.savefig(\"resultados_calibracion_FG1.png\", dpi=1000)"
   ]
  },
  {
   "cell_type": "code",
   "execution_count": 27,
   "metadata": {},
   "outputs": [
    {
     "name": "stdout",
     "output_type": "stream",
     "text": [
      "1.91230564137931e-05\n",
      "1.784626513333333e-05\n",
      "1.2767912804597722e-06\n"
     ]
    },
    {
     "data": {
      "image/png": "[encoded data removed]",
      "text/plain": [
       "<Figure size 432x288 with 1 Axes>"
      ]
     },
     "metadata": {
      "needs_background": "light"
     },
     "output_type": "display_data"
    }
   ],
   "source": [
    "ig= plt.plot(2)\n",
    "\n",
    "Y_min=np.min(Datos.MediaEXT)\n",
    "Y_max=np.max(Datos.MediaEXT)\n",
    "\n",
    "curm= plt.plot(Datos.Corriente, Datos.MediaEXT,marker='o', c='red', lw=2)\n",
    "#cur= plt.plot(X1, Y1, \"-\", c='green', lw=0.4)\n",
    "e=plt.errorbar(Datos.Corriente, Datos.MediaEXT, yerr=Datos.DVEXT, linestyle='none', ecolor='r' ,marker='o', mfc='red', capsize=3, lw=0.3)\n",
    "\n",
    "print(Y_max/1e6)\n",
    "print(Y_min/1e6)\n",
    "print((Y_max-Y_min)/1e6)\n",
    "plt.xlabel('Corriente (A)')\n",
    "plt.ylabel(r'Periodo ($\\mu$s)')\n",
    "#plt.xlim(Ni,Nf)\n",
    "plt.ylim(Y_min,Y_max)\n",
    "plt.title('EXTERNO')\n",
    "\n",
    "plt.savefig(\"resultados_ajuste_ruido_sin_blindaje.png\", dpi=500)"
   ]
  },
  {
   "cell_type": "code",
   "execution_count": 28,
   "metadata": {},
   "outputs": [
    {
     "name": "stdout",
     "output_type": "stream",
     "text": [
      "16.345668760601903\n",
      "16.345668760601903\n"
     ]
    },
    {
     "data": {
      "image/png": "[encoded data removed]",
      "text/plain": [
       "<Figure size 432x288 with 1 Axes>"
      ]
     },
     "metadata": {
      "needs_background": "light"
     },
     "output_type": "display_data"
    }
   ],
   "source": [
    "X01= Datos.loc[Datos['Corriente'] == 0].MediaINT\n",
    "X02=  Datos.loc[Datos['Corriente'] == 0].MediaEXT\n",
    "\n",
    "Xb= -X01.iloc[0]+X02.iloc[0]\n",
    "print(float(X01))\n",
    "\n",
    "Xc= Xb + Datos.MediaINT - Datos.MediaEXT + float(X01)\n",
    "\n",
    "X01er= Datos.loc[Datos['Corriente'] == 0].DVINT\n",
    "X02er=  Datos.loc[Datos['Corriente'] == 0].DVEXT\n",
    "\n",
    "Xber= -X01er.iloc[0]+X02er.iloc[0]\n",
    "print(float(X01))\n",
    "\n",
    "Xcer= Xber + Datos.DVINT - Datos.DVEXT + float(X01er)\n",
    "\n",
    "Y_min=np.min(Xc)\n",
    "Y_max=np.max(Xc)\n",
    "\n",
    "#curm= plt.plot(Xc,Datos.Campo_z, marker='o', c='green',markersize=1, lw=0)\n",
    "e=plt.errorbar(Xc,Datos.Campo_z, yerr=Xcer, linestyle='none', ecolor='r' ,marker='o', mfc='red', capsize=0.5, lw=0.3)\n",
    "\n",
    "plt.ylabel('Campo (nT)')\n",
    "plt.xlabel(r'Periodo ($\\mu$s)')\n",
    "plt.xticks(np.arange(7, 28, 1))\n",
    "plt.yticks(np.arange(-55000, 55000, 5000))\n",
    "\n",
    "plt.xlim(Y_min,Y_max)\n",
    "#plt.xlim(15,18)\n",
    "#plt.ylim(-10000,10000)\n",
    "#plt.ylim(np.min(Datos.Campo_z),np.max(Datos.Campo_z))\n",
    "plt.grid()\n",
    "plt.title('INTERNO')\n",
    "\n",
    "plt.savefig(\"resultados_curvas_calibracion_Sensor_2.png\", dpi=500)"
   ]
  },
  {
   "cell_type": "code",
   "execution_count": 29,
   "metadata": {},
   "outputs": [],
   "source": [
    "R_Peruzzi= pd.DataFrame(columns=['Periodo','Campo_z'])\n",
    "\n",
    "Cam = Datos.Campo_z\n",
    "\n",
    "for i in range(0,np.size(Cam)):\n",
    "    Campo=Cam.iloc[i]\n",
    "    \n",
    "    Per=Xc.iloc[i]\n",
    "    \n",
    "    R_Peruzzi.loc[i] = [Per] + [Campo]\n",
    "\n",
    "R_Peruzzi= R_Peruzzi.sort_values(by=['Periodo'], ascending=True)"
   ]
  },
  {
   "cell_type": "code",
   "execution_count": 30,
   "metadata": {},
   "outputs": [
    {
     "name": "stdout",
     "output_type": "stream",
     "text": [
      "      Periodo            Campo_z\n",
      "2    7.597970  -49606.2762825832\n",
      "0    7.729224  -50416.4290359419\n",
      "1    7.945497  -50167.1512656777\n",
      "3    8.164892  -43685.9292388075\n",
      "5    8.483128  -38201.8182929943\n",
      "4    8.615704  -38887.3321612210\n",
      "6    8.745018  -37890.2210801640\n",
      "7    9.271299  -32530.7490194829\n",
      "8    9.285978  -31284.3601681617\n",
      "10   9.813876  -25301.6936818201\n",
      "9   10.428151  -25613.2908946503\n",
      "11  10.761659  -20004.5410637050\n",
      "      Periodo            Campo_z\n",
      "12  11.164773  -19225.5480316293\n",
      "13  12.077309  -18970.0383171084\n",
      "14  12.903508  -12787.9496145554\n",
      "15  13.068439  -12763.0218375289\n",
      "16  13.269736  -12607.2232311138\n",
      "17  13.831114  -9541.10665686367\n",
      "21  14.609832  -6263.10397788895\n",
      "19  14.613478  -6431.36647281732\n",
      "18  14.740394  -6605.86091200228\n",
      "20  14.991330  -6369.04703025126\n",
      "28  15.274920  -3103.50823978975\n",
      "26  15.420884  -3140.89990532939\n",
      "27  15.523126  -3134.66796107278\n",
      "25  15.620792  -3153.36379384260\n",
      "24  15.668627  -3178.29157086902\n",
      "23  15.909784  -3215.68323640866\n",
      "22  16.066500  -3614.52766883144\n",
      "29  16.117183  -280.437491547267\n",
      "30  16.345669                  0\n",
      "32  16.523042   286.669435803872\n",
      "31  16.708745   280.437491547267\n",
      "33  16.852131   623.194425660593\n",
      "34  16.896839   629.426369917198\n",
      "37  16.920250   3215.68323640866\n",
      "38  17.180340   3240.61101343508\n",
      "36  17.301860   3172.05962661242\n",
      "35  17.491573   3134.66796107278\n",
      "41  17.953731   6418.90258430410\n",
      "40  18.035897   6325.42342045501\n",
      "42  18.142555   6425.13452856071\n",
      "39  18.209896   6319.19147619841\n",
      "44  19.204150   12893.8926669177\n",
      "45  19.391147   13068.3871061026\n",
      "43  19.516872   12650.8468409100\n",
      "48  20.379084   19256.7077529123\n",
      "46  20.411709   19107.1410907538\n",
      "47  20.704117   19188.1563660896\n",
      "49  21.491412   25426.3325669522\n",
      "51  21.632000   26111.8464351788\n",
      "50  21.742735   25800.2492223485\n",
      "53  22.475921   31720.5962661242\n",
      "52  22.544494   31595.9573809920\n",
      "54  23.472847   37391.6655396355\n",
      "55  23.645615   38388.7766206925\n",
      "56  23.717889   38513.4155058246\n",
      "57  24.526217   43623.6097962415\n",
      "61  25.812777   51475.8595595649\n",
      "59  25.817847   50852.6651339043\n",
      "58  25.888286   50416.4290359419\n",
      "60  25.917658   51288.9012318668\n"
     ]
    }
   ],
   "source": [
    "C1=R_Peruzzi.iloc[0:12]\n",
    "#CC1=R_Inicial.iloc[0:12]\n",
    "\n",
    "print(C1,sep='\\n')\n",
    "\n",
    "C2=R_Peruzzi.iloc[12:np.size(R_Peruzzi.Periodo)]\n",
    "#CC2=R_Inicial.iloc[12:np.size(R_Peruzzi.Periodo)]\n",
    "\n",
    "print(C2,sep='\\n')"
   ]
  },
  {
   "cell_type": "code",
   "execution_count": 31,
   "metadata": {},
   "outputs": [
    {
     "name": "stdout",
     "output_type": "stream",
     "text": [
      "Line funcion coefficients:\n",
      "[ 1.32055023e+02 -3.53919515e+04  1.99550340e+00]\n",
      "Covariance of coefficients:\n",
      "[[ 1.11097412e-03 -5.60200019e-02 -2.41700107e-06]\n",
      " [-5.60200019e-02  2.92467857e+00  1.21284009e-04]\n",
      " [-2.41700107e-06  1.21284009e-04  5.26272945e-09]]\n",
      "[3.33312783e-02 1.71016916e+00 7.25446721e-05]\n"
     ]
    },
    {
     "data": {
      "image/png": "[encoded data removed]",
      "text/plain": [
       "<Figure size 432x288 with 1 Axes>"
      ]
     },
     "metadata": {
      "needs_background": "light"
     },
     "output_type": "display_data"
    }
   ],
   "source": [
    "from scipy.optimize import curve_fit \n",
    "\n",
    "y=C2.Campo_z\n",
    "\n",
    "x = C2.Periodo\n",
    "\n",
    "def test(x, a, b, c): \n",
    "    return a*x**c+b\n",
    "#def test(x, a, b): \n",
    "#    return a*x+b\n",
    "  \n",
    "param, param_cov = curve_fit(test, x, y,absolute_sigma=True) \n",
    "  \n",
    "print(\"Line funcion coefficients:\") \n",
    "print(param) \n",
    "print(\"Covariance of coefficients:\") \n",
    "print(param_cov) \n",
    "  \n",
    "ans = (param[0]*x**param[2]+param[1]) \n",
    "#ans = (param[0]*x+param[1]) \n",
    "\n",
    "perr = np.sqrt(np.diag(param_cov))\n",
    "print(perr)\n",
    "\n",
    "M_coef_Up= [param[0]+perr[0],param[1]+perr[1],param[2]+perr[2]]\n",
    "M_coef_Do= [param[0]-perr[0],param[1]-perr[1],param[2]-perr[2]]\n",
    "\n",
    "#M_coef_Up= [param[0]+perr[0],param[1]+perr[1]]\n",
    "#M_coef_Do= [param[0]-perr[0],param[1]-perr[1]]\n",
    "\n",
    "\n",
    "#MUp= M_coef_Up[0]*x+M_coef_Up[1]\n",
    "#MDo= M_coef_Do[0]*x+M_coef_Do[1]\n",
    "\n",
    "#MUp= M_coef_Up[0]*x**M_coef_Up[2]+M_coef_Up[1]\n",
    "#MDo= M_coef_Do[0]*x**M_coef_Do[2]+M_coef_Do[1]\n",
    "\n",
    "#DeltaH=(MUp-MDo)/2\n",
    "\n",
    "plt.plot(x, y, 'o', color ='red', label =\"data\") \n",
    "plt.plot(x, ans, '--', color ='blue', label =\"optimized data\") \n",
    "#plt.plot(x, MUp, '-', color ='red', label =\"Model error +\") \n",
    "#plt.plot(x, MDo, '-', color ='green', label =\"Modelo error -\") \n",
    "\n",
    "plt.legend() \n",
    "plt.show() "
   ]
  },
  {
   "cell_type": "code",
   "execution_count": 32,
   "metadata": {},
   "outputs": [
    {
     "name": "stdout",
     "output_type": "stream",
     "text": [
      "0.997447156123650\n"
     ]
    }
   ],
   "source": [
    "residuals = y- test(x, param[0],param[1],param[2])\n",
    "#residuals = y- test(x, param[0],param[1])\n",
    "\n",
    "ss_res = np.sum(residuals**2)\n",
    "\n",
    "ss_tot = np.sum((y-np.mean(y))**2)\n",
    "R_2 = 1 - (ss_res / ss_tot)\n",
    "\n",
    "print(R_2)"
   ]
  },
  {
   "cell_type": "code",
   "execution_count": 188,
   "metadata": {},
   "outputs": [
    {
     "name": "stdout",
     "output_type": "stream",
     "text": [
      "Line funcion coefficients:\n",
      "[  -1490.36884798   37009.87850266 -246883.16466758]\n",
      "Covariance of coefficients:\n",
      "[[ 1.00757977e-01 -1.84226851e+00  8.31692311e+00]\n",
      " [-1.84226851e+00  3.37695460e+01 -1.52827175e+02]\n",
      " [ 8.31692311e+00 -1.52827175e+02  6.93356357e+02]]\n",
      "[ 0.31742397  5.81115703 26.33166074]\n"
     ]
    },
    {
     "data": {
      "image/png": "[encoded data removed]",
      "text/plain": [
       "<Figure size 432x288 with 1 Axes>"
      ]
     },
     "metadata": {
      "needs_background": "light"
     },
     "output_type": "display_data"
    }
   ],
   "source": [
    "from scipy.optimize import curve_fit \n",
    "\n",
    "y=C1.Campo_z\n",
    "\n",
    "x = C1.Periodo\n",
    "\n",
    "def test(x, a, b, c): \n",
    "    return a*x**2+b*x+c\n",
    "  \n",
    "#def test(x, a, b): \n",
    "#    return a*x+b\n",
    "  \n",
    "param, param_cov = curve_fit(test, x, y,absolute_sigma=True) \n",
    "  \n",
    "print(\"Line funcion coefficients:\") \n",
    "print(param) \n",
    "print(\"Covariance of coefficients:\") \n",
    "print(param_cov) \n",
    "  \n",
    "ans = (param[0]*x**2+param[1]*x+param[2]) \n",
    "#ans = (param[0]*x+param[1]) \n",
    "\n",
    "perr = np.sqrt(np.diag(param_cov))\n",
    "print(perr)\n",
    "\n",
    "plt.plot(x, y, 'o', color ='red', label =\"data\") \n",
    "plt.plot(x, ans, '--', color ='blue', label =\"optimized data\") \n",
    "#plt.plot(x, MUp, '-', color ='red', label =\"Model error +\") \n",
    "#plt.plot(x, MDo, '-', color ='green', label =\"Modelo error -\") \n",
    "\n",
    "plt.legend() \n",
    "plt.show() "
   ]
  },
  {
   "cell_type": "code",
   "execution_count": 189,
   "metadata": {},
   "outputs": [
    {
     "name": "stdout",
     "output_type": "stream",
     "text": [
      "0.972285037719037\n"
     ]
    }
   ],
   "source": [
    "residuals = y- test(x, param[0],param[1],param[2])\n",
    "#residuals = y- test(x, param[0],param[1])\n",
    "\n",
    "ss_res = np.sum(residuals**2)\n",
    "\n",
    "ss_tot = np.sum((y-np.mean(y))**2)\n",
    "R_2 = 1 - (ss_res / ss_tot)\n",
    "\n",
    "print(R_2)"
   ]
  },
  {
   "cell_type": "code",
   "execution_count": null,
   "metadata": {},
   "outputs": [],
   "source": []
  }
 ],
 "metadata": {
  "kernelspec": {
   "display_name": "Python 3",
   "language": "python",
   "name": "python3"
  },
  "language_info": {
   "codemirror_mode": {
    "name": "ipython",
    "version": 3
   },
   "file_extension": ".py",
   "mimetype": "text/x-python",
   "name": "python",
   "nbconvert_exporter": "python",
   "pygments_lexer": "ipython3",
   "version": "3.7.3"
  }
 },
 "nbformat": 4,
 "nbformat_minor": 4
}
