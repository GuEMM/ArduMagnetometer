{
 "cells": [
  {
   "cell_type": "code",
   "execution_count": 57,
   "metadata": {},
   "outputs": [
    {
     "name": "stdin",
     "output_type": "stream",
     "text": [
      "Numero de curva y sensor S1_C4_IPT2\n"
     ]
    }
   ],
   "source": [
    "\n",
    "name = input('Numero de curva y sensor')\n"
   ]
  },
  {
   "cell_type": "code",
   "execution_count": 74,
   "metadata": {},
   "outputs": [
    {
     "name": "stdin",
     "output_type": "stream",
     "text": [
      "Valor intensidad>  -80.0E-3\n"
     ]
    },
    {
     "name": "stdout",
     "output_type": "stream",
     "text": [
      "COM4 - USB Serial Device (COM4)\n",
      "0\n",
      "Descartado\n",
      "1\n",
      "2\n",
      "3\n",
      "4\n",
      "5\n",
      "6\n",
      "7\n",
      "8\n",
      "9\n",
      "10\n",
      "11\n",
      "12\n",
      "13\n",
      "14\n",
      "15\n",
      "16\n",
      "17\n",
      "18\n",
      "19\n",
      "20\n",
      "21\n",
      "22\n",
      "23\n",
      "24\n",
      "25\n",
      "26\n",
      "27\n",
      "28\n",
      "29\n",
      "30\n",
      "31\n",
      "32\n",
      "33\n",
      "34\n",
      "35\n",
      "36\n",
      "37\n",
      "38\n",
      "39\n",
      "40\n",
      "41\n",
      "42\n",
      "43\n",
      "44\n",
      "45\n",
      "46\n",
      "47\n",
      "48\n",
      "49\n",
      "50\n"
     ]
    }
   ],
   "source": [
    "import serial, time, csv, serial.tools.list_ports\n",
    "import numpy as np\n",
    "\n",
    "import time\n",
    "global num\n",
    "\n",
    "num = 0\n",
    "N = 50\n",
    "\n",
    "#name = input('Numero de curva y sensor')\n",
    "\n",
    "intens= float(input('Valor intensidad> '))\n",
    "\n",
    "Archivo = \"Datos_\"+name+\".csv\"\n",
    "\n",
    "def escribir(dts):\n",
    "    with open(Archivo, 'a') as csvFile:\n",
    "        #aora = time.strftime(\"%c\")\n",
    "        T=[intens]\n",
    "        #print(ahora)\n",
    "        dts=np.append(dts,T,axis=0)\n",
    "        #print(dts)\n",
    "        writer = csv.writer(csvFile,delimiter='\\t', lineterminator='\\n')\n",
    "        writer.writerow(dts)\n",
    "    csvFile.close()\n",
    "\n",
    "ports = list(serial.tools.list_ports.comports())\n",
    "\n",
    "for p in ports:\n",
    "    print(p)\n",
    "\n",
    "arduino = serial.Serial('COM4',115200, timeout=.1)\n",
    "\n",
    "sep=[]\n",
    "DAT=[]\n",
    "\n",
    "while num < N+1:\n",
    "    data = arduino.readline()\n",
    "    if data:\n",
    "        #print(data) #strip out the new lines for now\n",
    "        dts = data.split()\n",
    "        print(num)\n",
    "        if any(b'ovf' in x for x in dts) or num ==0:\n",
    "            num= num+1\n",
    "            print(\"Descartado\")\n",
    "        else:\n",
    "            num = num + 1\n",
    "            escribir(dts)\n",
    "            dts=[]\n",
    "\n",
    "arduino.close()\n"
   ]
  },
  {
   "cell_type": "code",
   "execution_count": null,
   "metadata": {},
   "outputs": [],
   "source": []
  }
 ],
 "metadata": {
  "kernelspec": {
   "display_name": "Python 3",
   "language": "python",
   "name": "python3"
  },
  "language_info": {
   "codemirror_mode": {
    "name": "ipython",
    "version": 3
   },
   "file_extension": ".py",
   "mimetype": "text/x-python",
   "name": "python",
   "nbconvert_exporter": "python",
   "pygments_lexer": "ipython3",
   "version": "3.7.3"
  }
 },
 "nbformat": 4,
 "nbformat_minor": 4
}
