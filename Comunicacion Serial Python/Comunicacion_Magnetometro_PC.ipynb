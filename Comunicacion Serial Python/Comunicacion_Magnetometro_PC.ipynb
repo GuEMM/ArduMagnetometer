{
 "cells": [
  {
   "cell_type": "code",
   "execution_count": 3,
   "metadata": {},
   "outputs": [],
   "source": [
    "#Para identificar el puerto donde está conectado\n",
    "import serial.tools.list_ports\n",
    "ports = list(serial.tools.list_ports.comports())\n",
    "\n",
    "for i in range(len(ports)):\n",
    "    print(i,'-',ports[i])\n",
    "    \n",
    "nn = input('Introduzca el numero correspondiente al puerto en el cual ha conectado el magnetometro')\n",
    "\n",
    "puerto = str(ports[nn])"
   ]
  },
  {
   "cell_type": "code",
   "execution_count": null,
   "metadata": {},
   "outputs": [
    {
     "name": "stdout",
     "output_type": "stream",
     "text": [
      "/dev/ttyUSB0 - USB2.0-Serial\n",
      "/dev/ttyACM0 - Arduino Mega 2560\n"
     ]
    }
   ],
   "source": [
    "import serial, time, csv, serial.tools.list_ports\n",
    "import numpy as np\n",
    "import time\n",
    "\n",
    "nombre = input('Introduce un nombre para el archivo donde se guardaran los datos (No es necesario incluir la extension, se guardará como .csv):')\n",
    "Archivo = \"Datos_\"+nombre+\".csv\"\n",
    "\n",
    "def escribir(dts):\n",
    "    with open(Archivo, 'a') as csvFile:\n",
    "        ahora = time.strftime(\"%c\")\n",
    "        T=[ahora]\n",
    "        #print(ahora)\n",
    "        dts=np.append(dts,T,axis=0)\n",
    "        #print(dts)\n",
    "        writer = csv.writer(csvFile,delimiter='\\t', lineterminator='\\n')\n",
    "        writer.writerow(dts)\n",
    "    csvFile.close()\n",
    "\n",
    "ports = list(serial.tools.list_ports.comports())\n",
    "\n",
    "for p in ports:\n",
    "    print(p)\n",
    "\n",
    "arduino = serial.Serial(puerto,115200, timeout=.1)\n",
    "\n",
    "sep=[]\n",
    "DAT=[]\n",
    "\n",
    "while True:\n",
    "    data = arduino.readline()\n",
    "    if data:\n",
    "        #print(data) #strip out the new lines for now\n",
    "        dts = data.split()\n",
    "        #print(dts)\n",
    "        if any(b'ovf' in x for x in dts):\n",
    "            print(\"Descartado\")\n",
    "        else:\n",
    "            \n",
    "            escribir(dts)\n",
    "            dts=[]\n",
    "\n"
   ]
  },
  {
   "cell_type": "code",
   "execution_count": 10,
   "metadata": {},
   "outputs": [
    {
     "name": "stdout",
     "output_type": "stream",
     "text": [
      "[b'152', b'14376492', b'ovf']\n"
     ]
    }
   ],
   "source": [
    "print(sep)"
   ]
  },
  {
   "cell_type": "code",
   "execution_count": 21,
   "metadata": {},
   "outputs": [],
   "source": []
  },
  {
   "cell_type": "code",
   "execution_count": null,
   "metadata": {},
   "outputs": [],
   "source": []
  }
 ],
 "metadata": {
  "kernelspec": {
   "display_name": "Python 3",
   "language": "python",
   "name": "python3"
  },
  "language_info": {
   "codemirror_mode": {
    "name": "ipython",
    "version": 3
   },
   "file_extension": ".py",
   "mimetype": "text/x-python",
   "name": "python",
   "nbconvert_exporter": "python",
   "pygments_lexer": "ipython3",
   "version": "3.6.9"
  }
 },
 "nbformat": 4,
 "nbformat_minor": 4
}
